{
 "cells": [
  {
   "cell_type": "code",
   "execution_count": 7,
   "metadata": {},
   "outputs": [
    {
     "data": {
      "text/plain": [
       "{'Name': 'Github',\n",
       " 'Description': 'Github API',\n",
       " 'Actions': [{'name': 'CreateIssue',\n",
       "   'description': 'Create a new issue in a repository.',\n",
       "   'parameters': {'properties': {'owner': {'description': 'Owner of the repository',\n",
       "      'examples': ['openai', 'facebook'],\n",
       "      'title': 'Owner',\n",
       "      'type': 'string'},\n",
       "     'repo': {'description': 'Name of the repository',\n",
       "      'examples': ['gpt-3', 'react'],\n",
       "      'title': 'Repo',\n",
       "      'type': 'string'},\n",
       "     'title': {'description': 'Title of the issue',\n",
       "      'examples': ['Bug in the code', 'Feature request'],\n",
       "      'title': 'Title',\n",
       "      'type': 'string'},\n",
       "     'body': {'default': '',\n",
       "      'description': 'Body of the issue',\n",
       "      'examples': ['The code is not working',\n",
       "       'I would like to request a new feature'],\n",
       "      'title': 'Body',\n",
       "      'type': 'string'}},\n",
       "    'required': ['owner', 'repo', 'title'],\n",
       "    'type': 'object'}}],\n",
       " 'Triggers': []}"
      ]
     },
     "execution_count": 7,
     "metadata": {},
     "output_type": "execute_result"
    }
   ],
   "source": [
    "from pydantic import BaseModel, Field\n",
    "from instructor import OpenAISchema\n",
    "from typing import List\n",
    "\n",
    "class Trigger(OpenAISchema):\n",
    "    def execute(self):\n",
    "        raise NotImplementedError(\"This method should be overridden by subclasses.\")\n",
    "\n",
    "class Action(OpenAISchema):\n",
    "    def execute(self):\n",
    "        raise NotImplementedError(\"This method should be overridden by subclasses.\")\n",
    "\n",
    "class CreateIssue(Action):\n",
    "    \"\"\"\n",
    "    Create a new issue in a repository.\n",
    "    \"\"\"\n",
    "    owner: str = Field(..., description=\"Owner of the repository\", examples=[\"openai\", \"facebook\"])\n",
    "    repo: str = Field(..., description=\"Name of the repository\", examples=[\"gpt-3\", \"react\"])\n",
    "    title: str = Field(..., description=\"Title of the issue\", examples=[\"Bug in the code\", \"Feature request\"])\n",
    "    body: str = Field(default=\"\", description=\"Body of the issue\", examples=[\"The code is not working\", \"I would like to request a new feature\"])\n",
    "\n",
    "    def execute(self):\n",
    "        return f\"Creating issue '{self.title}' in '{self.owner}/{self.repo}'\"\n",
    "\n",
    "class Tool():\n",
    "    def __init__(self, name: str = None, description: str = None, actions: List[Action] = [], triggers: List[Trigger] = []):\n",
    "        self.name = name\n",
    "        self.description = description\n",
    "        self.actions = actions\n",
    "        self.triggers = triggers\n",
    "\n",
    "    def execute_action(self, action_name: str, request_data: dict):\n",
    "        if action_name in self.actions:\n",
    "            return self.actions[action_name](**request_data).execute()\n",
    "        else:\n",
    "            return \"Action not found\"\n",
    "        \n",
    "    def json_schema(self):\n",
    "        return {\n",
    "            \"Name\": self.name,\n",
    "            \"Description\": self.description,\n",
    "            \"Actions\": [\n",
    "                action.openai_schema for action in self.actions\n",
    "            ],\n",
    "            \"Triggers\": [\n",
    "                trigger.openai_schema for trigger in self.triggers\n",
    "            ],\n",
    "        }\n",
    "\n",
    "Github = Tool(\n",
    "    name=\"Github\",\n",
    "    description=\"Github API\",\n",
    "    actions=[CreateIssue],\n",
    "    triggers=[]\n",
    ")\n",
    "\n",
    "Github.json_schema()"
   ]
  }
 ],
 "metadata": {
  "kernelspec": {
   "display_name": "venv",
   "language": "python",
   "name": "python3"
  },
  "language_info": {
   "codemirror_mode": {
    "name": "ipython",
    "version": 3
   },
   "file_extension": ".py",
   "mimetype": "text/x-python",
   "name": "python",
   "nbconvert_exporter": "python",
   "pygments_lexer": "ipython3",
   "version": "3.11.7"
  }
 },
 "nbformat": 4,
 "nbformat_minor": 2
}
